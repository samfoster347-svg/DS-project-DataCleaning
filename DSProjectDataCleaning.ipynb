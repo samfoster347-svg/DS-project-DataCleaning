{
  "nbformat": 4,
  "nbformat_minor": 0,
  "metadata": {
    "colab": {
      "provenance": []
    },
    "kernelspec": {
      "name": "python3",
      "display_name": "Python 3"
    },
    "language_info": {
      "name": "python"
    }
  },
  "cells": [
    {
      "cell_type": "code",
      "source": [
        "import pandas as pd\n",
        "import numpy as np\n",
        "\n",
        "# The raw data is formated as a text file, so the section describing what the\n",
        "# variables mean must be removed and column names must be assigned manually to\n",
        "# make it usable as a .csv.\n",
        "\n",
        "df = pd.read_csv('CreditDataRaw.csv')\n",
        "print(df.head())"
      ],
      "metadata": {
        "colab": {
          "base_uri": "https://localhost:8080/"
        },
        "id": "721EYaB3tleV",
        "outputId": "7473e4a3-ac51-45c9-fd5f-75f682cdbf96"
      },
      "execution_count": 76,
      "outputs": [
        {
          "output_type": "stream",
          "name": "stdout",
          "text": [
            "   person_age  person_income person_home_ownership person_emp_length  \\\n",
            "0          22          59000                  RENT             123.0   \n",
            "1          21           9600                   OWN               5.0   \n",
            "2          25           9600              MORTGAGE               1.0   \n",
            "3          23          65500                  RENT               4.0   \n",
            "4          24          54400                  RENT               8.0   \n",
            "\n",
            "  loan_intent loan_grade  loan_amnt loan_int_rate  loan_status  \\\n",
            "0    PERSONAL          D      35000         16.02            1   \n",
            "1   EDUCATION          B       1000         11.14            0   \n",
            "2     MEDICAL          C       5500         12.87            1   \n",
            "3     MEDICAL          C      35000         15.23            1   \n",
            "4     MEDICAL          C      35000         14.27            1   \n",
            "\n",
            "   loan_percent_income  cb_person_default_on_file   cb_person_cred_hist_length  \n",
            "0                 0.59                          Y                            3  \n",
            "1                 0.10                          N                            2  \n",
            "2                 0.57                          N                            3  \n",
            "3                 0.53                          N                            2  \n",
            "4                 0.55                          Y                            4  \n"
          ]
        }
      ]
    },
    {
      "cell_type": "code",
      "source": [
        "# The dataset's analysis page says that there should be 895 missing values in the\n",
        "# \"person_emp_length\" column and 3116 missing values in the \"loan_int_rate\" column\n",
        "\n",
        "print(df.isna().sum())\n",
        "print('')\n",
        "print(df.isnull().sum())\n"
      ],
      "metadata": {
        "colab": {
          "base_uri": "https://localhost:8080/"
        },
        "id": "_CqSrFqcxK0L",
        "outputId": "52541ebe-2127-40f2-dc1b-6f7b02308f49"
      },
      "execution_count": 92,
      "outputs": [
        {
          "output_type": "stream",
          "name": "stdout",
          "text": [
            "person_age                     0\n",
            "person_income                  0\n",
            "person_home_ownership          0\n",
            "person_emp_length              0\n",
            "loan_intent                    0\n",
            "loan_grade                     0\n",
            "loan_amnt                      0\n",
            "loan_int_rate                  0\n",
            "loan_status                    0\n",
            "loan_percent_income            0\n",
            " cb_person_default_on_file     0\n",
            " cb_person_cred_hist_length    0\n",
            "dtype: int64\n",
            "\n",
            "person_age                     0\n",
            "person_income                  0\n",
            "person_home_ownership          0\n",
            "person_emp_length              0\n",
            "loan_intent                    0\n",
            "loan_grade                     0\n",
            "loan_amnt                      0\n",
            "loan_int_rate                  0\n",
            "loan_status                    0\n",
            "loan_percent_income            0\n",
            " cb_person_default_on_file     0\n",
            " cb_person_cred_hist_length    0\n",
            "dtype: int64\n"
          ]
        }
      ]
    },
    {
      "cell_type": "code",
      "source": [
        "# The dataset uses '?' instead of 'na' or 'null', so summing the values that have '?':\n",
        "\n",
        "print(df['loan_int_rate'].value_counts()['?'])\n",
        "print(df['person_emp_length'].value_counts()['?'])\n",
        "\n",
        "dfA = df[df['loan_int_rate'] != '?']\n",
        "dfClean = dfA[dfA['person_emp_length'] != '?']"
      ],
      "metadata": {
        "colab": {
          "base_uri": "https://localhost:8080/"
        },
        "id": "jU3gLmbm-4y5",
        "outputId": "d255a1e7-bcf5-45c1-f034-80d2b3a8434a"
      },
      "execution_count": 93,
      "outputs": [
        {
          "output_type": "stream",
          "name": "stdout",
          "text": [
            "3116\n",
            "895\n"
          ]
        }
      ]
    },
    {
      "cell_type": "code",
      "source": [
        "# Because the data has '?' in the same columns as numbers, the \"person_emp_length\"\n",
        "# and \"loan_int_rate\" columns are stored as 'objects' and are difficult to use for\n",
        "# mathematical analysis, and should be changed.\n",
        "\n",
        "dfClean['loan_int_rate'] = dfClean['loan_int_rate'].astype('float')\n",
        "dfClean['person_emp_length'] = dfClean['person_emp_length'].astype('float')\n",
        "\n",
        "print(dfClean.dtypes)"
      ],
      "metadata": {
        "colab": {
          "base_uri": "https://localhost:8080/"
        },
        "id": "j0oj4HLq-9PM",
        "outputId": "840bec62-7f14-4f9b-990a-c2c4ff2f88bd"
      },
      "execution_count": 94,
      "outputs": [
        {
          "output_type": "stream",
          "name": "stdout",
          "text": [
            "person_age                       int64\n",
            "person_income                    int64\n",
            "person_home_ownership           object\n",
            "person_emp_length              float64\n",
            "loan_intent                     object\n",
            "loan_grade                      object\n",
            "loan_amnt                        int64\n",
            "loan_int_rate                  float64\n",
            "loan_status                      int64\n",
            "loan_percent_income            float64\n",
            " cb_person_default_on_file      object\n",
            " cb_person_cred_hist_length      int64\n",
            "dtype: object\n"
          ]
        },
        {
          "output_type": "stream",
          "name": "stderr",
          "text": [
            "/tmp/ipython-input-4218595580.py:5: SettingWithCopyWarning: \n",
            "A value is trying to be set on a copy of a slice from a DataFrame.\n",
            "Try using .loc[row_indexer,col_indexer] = value instead\n",
            "\n",
            "See the caveats in the documentation: https://pandas.pydata.org/pandas-docs/stable/user_guide/indexing.html#returning-a-view-versus-a-copy\n",
            "  dfClean['loan_int_rate'] = dfClean['loan_int_rate'].astype('float')\n",
            "/tmp/ipython-input-4218595580.py:6: SettingWithCopyWarning: \n",
            "A value is trying to be set on a copy of a slice from a DataFrame.\n",
            "Try using .loc[row_indexer,col_indexer] = value instead\n",
            "\n",
            "See the caveats in the documentation: https://pandas.pydata.org/pandas-docs/stable/user_guide/indexing.html#returning-a-view-versus-a-copy\n",
            "  dfClean['person_emp_length'] = dfClean['person_emp_length'].astype('float')\n"
          ]
        }
      ]
    },
    {
      "cell_type": "code",
      "source": [
        "# The data also seems to have excessively large values in \"person_emp_length\" which\n",
        "# seem dubious. For example, several indivuals are recorded as being employed for 123 years.\n",
        "\n",
        "print((dfClean['person_emp_length'] == 123).sum())\n",
        "print((dfClean['person_emp_length'] > 50).sum())\n",
        "\n",
        "# These two instances seem to be the only examples of seriously large values in\n",
        "# the column and for the sake of avoiding extreme outliers these two are also excluded.\n",
        "\n",
        "dfCleanFinal = dfClean[dfClean['person_emp_length'] != 123]\n",
        "print((dfCleanFinal['person_emp_length'] > 50).sum())"
      ],
      "metadata": {
        "colab": {
          "base_uri": "https://localhost:8080/"
        },
        "id": "1KPrWzcq_ICE",
        "outputId": "66fcccc9-a203-4288-cfe5-d71196aebac4"
      },
      "execution_count": 108,
      "outputs": [
        {
          "output_type": "stream",
          "name": "stdout",
          "text": [
            "2\n",
            "2\n",
            "0\n"
          ]
        }
      ]
    },
    {
      "cell_type": "code",
      "source": [
        "#Click here to download the cleaned dataset.\n",
        "dfCleanFinal.to_csv('CreditDataClean.csv', index=False)"
      ],
      "metadata": {
        "id": "0t__NoBYBK8M"
      },
      "execution_count": 110,
      "outputs": []
    }
  ]
}